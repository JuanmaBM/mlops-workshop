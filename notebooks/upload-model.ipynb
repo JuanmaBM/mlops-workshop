{
 "cells": [
  {
   "cell_type": "code",
   "execution_count": null,
   "metadata": {},
   "outputs": [],
   "source": [
    "!pip install boto3\n",
    "\n",
    "import boto3, os\n",
    "from datetime import datetime\n",
    "\n",
    "BUCKET = os.getenv(\"AWS_S3_BUCKET\")\n",
    "AWS_ACCESS_KEY_ID = os.getenv(\"AWS_ACCESS_KEY_ID\")\n",
    "AWS_SECRET_ACCESS_KEY = os.getenv(\"AWS_SECRET_ACCESS_KEY\")\n",
    "AWS_S3_ENDPOINT = os.getenv(\"AWS_S3_ENDPOINT\")\n",
    "MODEL_VERSION = os.getenv(\"MODEL_VERSION\")\n",
    "\n",
    "# Set up the S3 client\n",
    "s3 = boto3.client('s3',\n",
    "    endpoint_url = AWS_S3_ENDPOINT,\n",
    "    aws_access_key_id = AWS_ACCESS_KEY_ID,\n",
    "    aws_secret_access_key = AWS_SECRET_ACCESS_KEY)\n",
    "\n",
    "\n",
    "# Function to upload a folder to S3\n",
    "def upload_folder_to_s3(local_folder, bucket_name, object_prefix):\n",
    "    for root, dirs, files in os.walk(local_folder):\n",
    "        for file in files:\n",
    "            local_path = os.path.join(root, file)\n",
    "            s3_path = os.path.join(object_prefix, os.path.relpath(local_path, local_folder))\n",
    "            s3.upload_file(local_path, bucket_name, s3_path)\n",
    "\n",
    "\n",
    "# Upload a file to the bucket\n",
    "object_prefix = 'models/model-' + MODEL_VERSION\n",
    "folder_path = 'model'\n",
    "\n",
    "print(f\"bucketname = {BUCKET}\")\n",
    "\n",
    "# Upload the folder to S3\n",
    "upload_folder_to_s3(folder_path, BUCKET, object_prefix)"
   ]
  }
 ],
 "metadata": {
  "language_info": {
   "name": "python"
  }
 },
 "nbformat": 4,
 "nbformat_minor": 2
}
