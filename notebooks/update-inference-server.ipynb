{
 "cells": [
  {
   "cell_type": "code",
   "execution_count": null,
   "metadata": {},
   "outputs": [],
   "source": [
    "import rimport re\n",
    "from github import Github\n",
    "from git import Repo\n",
    "import os\n",
    "\n",
    "github_token = os.getenv('GITHUB_TOKEN')\n",
    "new_version = os.getenv('MODEL_VERSION')\n",
    "\n",
    "# Initialize PyGithub\n",
    "github = Github(github_token)\n",
    "\n",
    "# Get the repository\n",
    "repo_url = \"https://github.com/JuanmaBM/mlops-workshop.git\"  # Change this URL to your repository's URL\n",
    "repo_name = repo_url.split(\"/\")[-1].replace(\".git\", \"\")\n",
    "repo = github.get_repo(repo_name)\n",
    "\n",
    "# Clone the repository\n",
    "local_repo_path = \"cloned_repo\"\n",
    "Repo.clone_from(repo_url, local_repo_path)\n",
    "\n",
    "# Directory and name of the file to modify\n",
    "file_to_modify = \"rhai-workbench/file.yaml\"\n",
    "\n",
    "# Read the content of the file\n",
    "with open(os.path.join(local_repo_path, file_to_modify), \"r\") as file:\n",
    "    content = file.read()\n",
    "\n",
    "# Regular expression to find the version \"0.1.0\"\n",
    "version_pattern = r\"(\\d+\\.\\d+\\.)\\d+\"\n",
    "\n",
    "# Function to replace the version\n",
    "def replace_version(match):\n",
    "    return match.group(1) + new_version\n",
    "\n",
    "# Perform the replacement\n",
    "updated_content = re.sub(version_pattern, replace_version, content)\n",
    "\n",
    "# Write the updated content back to the file\n",
    "with open(os.path.join(local_repo_path, file_to_modify), \"w\") as file:\n",
    "    file.write(updated_content)\n",
    "\n",
    "# Commit and push changes to GitHub\n",
    "repo.index.add([file_to_modify])\n",
    "repo.index.commit(f\"Update model version to {new_version}\")\n",
    "origin = repo.remote(name=\"origin\")\n",
    "origin.push()\n",
    "\n",
    "print(\"Changes saved and pushed to GitHub successfully.\")\n"
   ]
  }
 ],
 "metadata": {
  "language_info": {
   "name": "python"
  }
 },
 "nbformat": 4,
 "nbformat_minor": 2
}
